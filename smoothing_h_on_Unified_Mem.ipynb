{
  "nbformat": 4,
  "nbformat_minor": 0,
  "metadata": {
    "colab": {
      "provenance": [],
      "authorship_tag": "ABX9TyNV5QrMB13rrsJFx5PyT9J6",
      "include_colab_link": true
    },
    "kernelspec": {
      "name": "python3",
      "display_name": "Python 3"
    },
    "language_info": {
      "name": "python"
    },
    "accelerator": "GPU",
    "gpuClass": "standard"
  },
  "cells": [
    {
      "cell_type": "markdown",
      "metadata": {
        "id": "view-in-github",
        "colab_type": "text"
      },
      "source": [
        "<a href=\"https://colab.research.google.com/github/hassanfv/hfvSPH_on_Unified_Memory_GPU/blob/main/smoothing_h_on_Unified_Mem.ipynb\" target=\"_parent\"><img src=\"https://colab.research.google.com/assets/colab-badge.svg\" alt=\"Open In Colab\"/></a>"
      ]
    },
    {
      "cell_type": "code",
      "execution_count": 1,
      "metadata": {
        "colab": {
          "base_uri": "https://localhost:8080/"
        },
        "id": "-vlwo7bUpMf9",
        "outputId": "f4e1f157-6c61-4085-ed08-3fe6da82b82a"
      },
      "outputs": [
        {
          "output_type": "stream",
          "name": "stdout",
          "text": [
            "Writing mtest.cu\n"
          ]
        }
      ],
      "source": [
        "%%writefile mtest.cu\n",
        "#include <iostream> // iostream, fstream, cmath, string, vector, sstream.\n",
        "#include <fstream>\n",
        "#include <cmath>\n",
        "#include <string>\n",
        "#include <vector>\n",
        "#include <sstream>\n",
        "#include \"myCppSPHLibs.h\"\n",
        "using namespace std;\n",
        "\n",
        "const int N = 131504;\n",
        "const int Nngb = 64;\n",
        "const int Ndown = Nngb - 5;\n",
        "const int Nup = Nngb + 5;\n",
        "const float coeff = 0.001;\n",
        "\n",
        "\n",
        "int main(){\n",
        "\n",
        "  // Reading Hydra file.\n",
        "  string fname = \"Hydra_130k.csv\";\n",
        "\n",
        "  vector<vector<string>> content;\n",
        "  vector<string> row;\n",
        "  string line, word;\n",
        "  \n",
        "  fstream file (fname, ios::in);\n",
        "  if(file.is_open())\n",
        "  {\n",
        "  while(getline(file, line))\n",
        "  {\n",
        "  row.clear();\n",
        "  \n",
        "  stringstream str(line);\n",
        "  \n",
        "  while(getline(str, word, ','))\n",
        "  row.push_back(word);\n",
        "  content.push_back(row);\n",
        "  }\n",
        "  }\n",
        "  else\n",
        "  cout<<\"Could not open the file\\n\";\n",
        "\n",
        "  // Allocate Unified Memory - accessible from CPU and GPU\n",
        "  float *x, *y, *z, *hres, *hprevious;\n",
        "  cudaMallocManaged(&x, N*sizeof(float));\n",
        "  cudaMallocManaged(&y, N*sizeof(float));\n",
        "  cudaMallocManaged(&z, N*sizeof(float));\n",
        "\n",
        "  cudaMallocManaged(&hres, N*sizeof(float));\n",
        "  cudaMallocManaged(&hprevious, N*sizeof(float));\n",
        "\n",
        "  // 0  1  2  3   4   5    6   7  8  9  10\n",
        "  // x, y, z, vx, vy, vz, rho, P, c, h, m.\n",
        "\n",
        "  // Initialize x, y, and z on the Host.\n",
        "  for(int i = 0; i < N; i++){\n",
        "    x[i] = stof(content[i][0]);\n",
        "    y[i] = stof(content[i][1]);\n",
        "    z[i] = stof(content[i][2]);\n",
        "  }\n",
        "\n",
        "  // Initialize hres and hprevious on the Host\n",
        "  for(int i = 0; i < N; i++){\n",
        "    hres[i] = 10.1f; // 100.0 is just a place holder!\n",
        "    hprevious[i] = stof(content[i][9]);;\n",
        "  }\n",
        "\n",
        "  // Launching the kernel on GPU\n",
        "  int blockSize = 256; // number of threads in a block\n",
        "  int gridSize = (N + blockSize - 1) / blockSize; // Number of blocks in a grid\n",
        "\n",
        "  smoothing_h<<<gridSize, blockSize>>>(x, y, z, hres, hprevious,\n",
        "                                       N, Ndown, Nup, coeff);\n",
        "\n",
        "  // Wait for the GPU to finish before accessing the Host\n",
        "  cudaDeviceSynchronize();\n",
        "\n",
        "  // visual inspection\n",
        "  for(int i = N-10; i < N; i++){\n",
        "    cout << hprevious[i] << \"  \" << hres[i] << endl;\n",
        "  }\n",
        "\n",
        "  // Free memory\n",
        "  cudaFree(x);\n",
        "  cudaFree(y);\n",
        "  cudaFree(z);\n",
        "  cudaFree(hres);\n",
        "  cudaFree(hprevious);\n",
        "\n",
        "}"
      ]
    },
    {
      "cell_type": "code",
      "source": [
        "%%shell\n",
        "nvcc mtest.cu -o mtest"
      ],
      "metadata": {
        "colab": {
          "base_uri": "https://localhost:8080/"
        },
        "id": "WNt7UKHpukih",
        "outputId": "dc9f32cd-03e2-43c9-eb66-4271aeb171ba"
      },
      "execution_count": 2,
      "outputs": [
        {
          "output_type": "execute_result",
          "data": {
            "text/plain": []
          },
          "metadata": {},
          "execution_count": 2
        }
      ]
    },
    {
      "cell_type": "code",
      "source": [
        "%%shell\n",
        "./mtest"
      ],
      "metadata": {
        "colab": {
          "base_uri": "https://localhost:8080/"
        },
        "id": "FwMC698-uq7I",
        "outputId": "1aa8421a-1838-4cc6-b111-947d811970ca"
      },
      "execution_count": 3,
      "outputs": [
        {
          "output_type": "stream",
          "name": "stdout",
          "text": [
            "0.0491951  0.0491951\n",
            "0.0541674  0.0541674\n",
            "0.0506397  0.0506397\n",
            "0.0476966  0.0476966\n",
            "0.0563585  0.0563585\n",
            "0.0607407  0.0607407\n",
            "0.0579519  0.0579519\n",
            "0.0439055  0.0439055\n",
            "0.0553372  0.0553372\n",
            "0.0540047  0.0540047\n"
          ]
        },
        {
          "output_type": "execute_result",
          "data": {
            "text/plain": []
          },
          "metadata": {},
          "execution_count": 3
        }
      ]
    },
    {
      "cell_type": "code",
      "source": [
        "%%shell\n",
        "nvprof ./mtest"
      ],
      "metadata": {
        "colab": {
          "base_uri": "https://localhost:8080/"
        },
        "id": "JaC_2sHEu0dm",
        "outputId": "a469bcb7-1049-4af4-9376-2ba30fbfab95"
      },
      "execution_count": 4,
      "outputs": [
        {
          "output_type": "stream",
          "name": "stdout",
          "text": [
            "==215== NVPROF is profiling process 215, command: ./mtest\n",
            "0.0491951  0.0491951\n",
            "0.0541674  0.0541674\n",
            "0.0506397  0.0506397\n",
            "0.0476966  0.0476966\n",
            "0.0563585  0.0563585\n",
            "0.0607407  0.0607407\n",
            "0.0579519  0.0579519\n",
            "0.0439055  0.0439055\n",
            "0.0553372  0.0553372\n",
            "0.0540047  0.0540047\n",
            "==215== Profiling application: ./mtest\n",
            "==215== Profiling result:\n",
            "            Type  Time(%)      Time     Calls       Avg       Min       Max  Name\n",
            " GPU activities:  100.00%  179.66ms         1  179.66ms  179.66ms  179.66ms  smoothing_h(float*, float*, float*, float*, float*, int, int, int, float)\n",
            "      API calls:   66.09%  352.39ms         5  70.477ms  4.7300us  352.30ms  cudaMallocManaged\n",
            "                   33.70%  179.67ms         1  179.67ms  179.67ms  179.67ms  cudaDeviceSynchronize\n",
            "                    0.09%  489.73us         5  97.945us  10.507us  238.67us  cudaFree\n",
            "                    0.08%  401.39us         1  401.39us  401.39us  401.39us  cuDeviceTotalMem\n",
            "                    0.03%  177.21us       101  1.7540us     139ns  76.190us  cuDeviceGetAttribute\n",
            "                    0.01%  58.185us         1  58.185us  58.185us  58.185us  cudaLaunchKernel\n",
            "                    0.01%  30.177us         1  30.177us  30.177us  30.177us  cuDeviceGetName\n",
            "                    0.00%  5.4680us         1  5.4680us  5.4680us  5.4680us  cuDeviceGetPCIBusId\n",
            "                    0.00%  1.4470us         2     723ns     242ns  1.2050us  cuDeviceGet\n",
            "                    0.00%  1.4450us         3     481ns     186ns     848ns  cuDeviceGetCount\n",
            "                    0.00%     241ns         1     241ns     241ns     241ns  cuDeviceGetUuid\n",
            "\n",
            "==215== Unified Memory profiling result:\n",
            "Device \"Tesla T4 (0)\"\n",
            "   Count  Avg Size  Min Size  Max Size  Total Size  Total Time  Name\n",
            "      55  74.473KB  4.0000KB  0.9961MB  4.000000MB  501.7870us  Host To Device\n",
            "       4  32.000KB  4.0000KB  60.000KB  128.0000KB  15.80800us  Device To Host\n",
            "      15         -         -         -           -  2.597934ms  Gpu page fault groups\n",
            "Total CPU Page faults: 21\n"
          ]
        },
        {
          "output_type": "execute_result",
          "data": {
            "text/plain": []
          },
          "metadata": {},
          "execution_count": 4
        }
      ]
    },
    {
      "cell_type": "code",
      "source": [],
      "metadata": {
        "id": "VvsxRTz0v_O5"
      },
      "execution_count": null,
      "outputs": []
    }
  ]
}